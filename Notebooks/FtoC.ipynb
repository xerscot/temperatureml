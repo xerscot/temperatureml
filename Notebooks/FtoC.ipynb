{
 "cells": [
  {
   "cell_type": "markdown",
   "metadata": {},
   "source": [
    "This Notebook will 'simply' learn to calculate a given number representing the degrees in Fahrenheit to its Celsius equivalent. "
   ]
  },
  {
   "cell_type": "code",
   "execution_count": 2,
   "metadata": {},
   "outputs": [
    {
     "name": "stdout",
     "output_type": "stream",
     "text": [
      "[-49.19545001   9.53190149  70.10106218  11.61256175 -12.38851015\n",
      "  97.62806525  80.17309864 -21.27446942   0.6361054  -14.05386979\n",
      "  98.26459289  19.13066183  96.83822828  71.32651928  21.24198933\n",
      "  69.22045278 -41.80260563  84.93994111 -27.35765141  83.69140438\n",
      " -27.76589601  35.87793986  83.25326905  86.18856681  21.65339915\n",
      " -14.51442426  35.51162888  25.27157307   7.08353038  81.29201821\n",
      "  12.07485239 100.6484653  -20.63546449   2.81159088  69.5822842\n",
      "  64.54650859  -5.75881706  60.45272792  82.10178106 -49.95896988\n",
      " -21.81063002  24.92842303  81.58913701   7.23605589 -33.41536195\n",
      "  79.1886234   31.92065659  41.98558637  57.0969214  -46.94569001\n",
      "  64.19520256  84.06407666  68.56202989 -10.13296206  28.39652515\n",
      " -35.28228662  52.33283664  87.92394205  52.44583001  77.45267778\n",
      "  31.27624729  20.39351463  10.44771058 -36.09082708 -32.53555753\n",
      " -32.35141238  -9.57977143  37.77618445  87.61361877 -16.73263565\n",
      " -49.39765116  40.85824741  52.72636196  -5.62493916 -34.77155663]\n",
      "[-45.108583338539496, -12.482276950615503, 21.167256767222366, -11.32635458590337, -24.66028341654288, 36.4600362496127, 26.76283257854002, -29.596927453393196, -17.42438589017333, -25.585483216093586, 36.81366271519434, -7.149632317306411, 36.02123793081128, 21.84806626746236, -5.976672592488536, 20.67802932138379, -41.00144757450579, 29.41107839717148, -32.976473004332696, 28.717446877849447, -33.20327555872947, 2.154411033973255, 28.474038362783304, 30.104759337953467, -5.748111580953656, -25.841346812420902, 1.9509049339528417, -3.738014959450153, -13.842483124490334, 27.384454562269173, -11.0695264480173, 38.13803628031208, -29.241924715349267, -16.215782843230187, 20.879046775890057, 18.08139366175113, -20.9771205902965, 15.807071066940548, 27.834322810237083, -45.53276104184032, -29.894794455236568, -3.928653873872234, 27.549520561534152, -13.757746726025967, -36.341867747298004, 26.21590188742502, -0.04407967249005335, 5.547547983591248, 13.9427341089544, -43.858716672087816, 17.88622364195176, 28.924487031040954, 20.31223883040498, -23.40720114355195, -2.0019304731196916, -37.37904812288554, 11.296020353069341, 31.06885669211517, 11.35879445038137, 25.25148765299544, -0.4020848410316644, -6.448047425828365, -11.973494124074854, -37.82823726544976, -35.85308751518035, -35.750784658194235, -23.099873014661583, 3.2089913598554176, 30.896454870843854, -27.07368647093923, -45.220917312151805, 4.921248563184769, 11.51464553435168, -20.902743975517453, -37.09530923798416]\n"
     ]
    }
   ],
   "source": [
    "#First we import numpy, tensorflow and finally matplotlib to visualise our training's loss\n",
    "import numpy as np\n",
    "import tensorflow as tf\n",
    "import matplotlib.pyplot as plt\n",
    "\n",
    "#Let the data's inputs consist of random numbers between -50 and 101\n",
    "f_inputs = np.random.uniform(low=-50, high=101, size=(75,))\n",
    "c_outputs = []\n",
    "\n",
    "#We calculate the Fahrenheit equivalent for the expected output\n",
    "for i in f_inputs:\n",
    "  temp = (i - 32) * 5.0/9.0\n",
    "  c_outputs.append(temp)\n",
    "\n",
    "print(f_inputs)\n",
    "print(c_outputs)"
   ]
  },
  {
   "cell_type": "markdown",
   "metadata": {},
   "source": [
    "I am pretty happy with how those numbers look. For example, I get -4.52846963 (F) as -20.293594237137746 (C), which is correct."
   ]
  },
  {
   "cell_type": "code",
   "execution_count": 3,
   "metadata": {},
   "outputs": [
    {
     "name": "stdout",
     "output_type": "stream",
     "text": [
      "Finished training\n"
     ]
    }
   ],
   "source": [
    "#We convert our datasets now to np.arrays for optimum usage. They are much more memory efficient, they don't call other Python objects\n",
    "#The added bonus is that we get access to matrix and vector functions built-in\n",
    "f_inputs_np = np.array(f_inputs, dtype=float)\n",
    "c_outputs_np = np.array(c_outputs, dtype=float)\n",
    "\n",
    "#We're using a simple 1 layered Sequential model because we have a simple 1 input and 1 output dataset\n",
    "layer = tf.keras.layers.Dense(units=1, input_shape=[1])\n",
    "model = tf.keras.Sequential(layer)\n",
    "\n",
    "#The loss function is important as it will indicate how well our model above is performing. We want a low Mean Squared Error.\n",
    "#Adam is a way for the model to optimize itself during training where it looks to see how close its guess is to what is expected.\n",
    "model.compile(loss='mean_squared_error',\n",
    "              optimizer=tf.keras.optimizers.Adam(0.1))\n",
    "#Fit does the actual training and does it for the number of epochs (sounds epic, just means iterations)\n",
    "history = model.fit(f_inputs_np, c_outputs_np, epochs=500, verbose=False)\n",
    "print(\"Finished training\")"
   ]
  },
  {
   "cell_type": "code",
   "execution_count": 4,
   "metadata": {},
   "outputs": [
    {
     "data": {
      "text/plain": [
       "[<matplotlib.lines.Line2D at 0x1c80ace8240>]"
      ]
     },
     "execution_count": 4,
     "metadata": {},
     "output_type": "execute_result"
    },
    {
     "data": {
      "image/png": "[encoded data removed]",
      "text/plain": [
       "<Figure size 432x288 with 1 Axes>"
      ]
     },
     "metadata": {
      "needs_background": "light"
     },
     "output_type": "display_data"
    }
   ],
   "source": [
    "#Let's have a look at how we did on our training\n",
    "plt.xlabel('Epoch')\n",
    "plt.ylabel(\"Loss\")\n",
    "plt.plot(history.history['loss'])"
   ]
  },
  {
   "cell_type": "markdown",
   "metadata": {},
   "source": [
    "Pretty good we're getting very close to 0 in our loss."
   ]
  },
  {
   "cell_type": "code",
   "execution_count": 5,
   "metadata": {},
   "outputs": [
    {
     "name": "stdout",
     "output_type": "stream",
     "text": [
      "[[-39.99995]]\n"
     ]
    }
   ],
   "source": [
    "#Let's do a prediction on our model. One of my favourites is -40 because it's the same in Celsius and Fahrenheit\n",
    "print(model.predict([-40.0]))"
   ]
  },
  {
   "cell_type": "code",
   "execution_count": 6,
   "metadata": {},
   "outputs": [
    {
     "name": "stdout",
     "output_type": "stream",
     "text": [
      "[[2.670288e-05]]\n"
     ]
    }
   ],
   "source": [
    "#I had a look at 32 Fahrenheit because that is 0\n",
    "print(model.predict([32.0]))"
   ]
  },
  {
   "cell_type": "code",
   "execution_count": 7,
   "metadata": {},
   "outputs": [
    {
     "name": "stdout",
     "output_type": "stream",
     "text": [
      "[<tf.Variable 'dense/kernel:0' shape=(1, 1) dtype=float32, numpy=array([[0.5555552]], dtype=float32)>, <tf.Variable 'dense/bias:0' shape=(1,) dtype=float32, numpy=array([-17.77774], dtype=float32)>]\n"
     ]
    }
   ],
   "source": [
    "print(model.weights)"
   ]
  },
  {
   "cell_type": "code",
   "execution_count": 8,
   "metadata": {},
   "outputs": [],
   "source": [
    "import tensorflowjs as tfjs\n",
    "\n",
    "tfjs.converters.save_keras_model(model, '../Models/FtoC')"
   ]
  }
 ],
 "metadata": {
  "interpreter": {
   "hash": "4882edbe51bb6e239ade092361931914e31372b71a364adc3f294d6ba1d7a732"
  },
  "kernelspec": {
   "display_name": "Python 3.7.0 64-bit",
   "language": "python",
   "name": "python3"
  },
  "language_info": {
   "codemirror_mode": {
    "name": "ipython",
    "version": 3
   },
   "file_extension": ".py",
   "mimetype": "text/x-python",
   "name": "python",
   "nbconvert_exporter": "python",
   "pygments_lexer": "ipython3",
   "version": "3.7.0"
  },
  "orig_nbformat": 4
 },
 "nbformat": 4,
 "nbformat_minor": 2
}
