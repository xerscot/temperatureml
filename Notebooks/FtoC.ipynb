{
 "cells": [
  {
   "cell_type": "markdown",
   "metadata": {},
   "source": [
    "This Notebook will 'simply' learn to calculate a given number representing the degrees in Fahrenheit to its Celsius equivalent. "
   ]
  },
  {
   "cell_type": "code",
   "execution_count": 2,
   "metadata": {},
   "outputs": [
    {
     "name": "stdout",
     "output_type": "stream",
     "text": [
      "[ -4.52846963  96.43059232  36.86279555  26.31859475  34.94657755\n",
      " -19.93305465  77.60624192  36.16112267  15.6274272   29.1608095\n",
      "  71.99451041  56.33463363  31.49304943  29.40342529  -4.39748342\n",
      " -20.43143025  88.87769283  77.95372731  56.50426935  20.0663338\n",
      "  -2.42839098 -37.40726458 -25.88827398  94.7502074   70.88373491\n",
      "  52.40444879  47.78182386  98.33732764   6.53724615  77.32375347\n",
      "  -3.14514708 -41.28756249 -27.3890368   87.69500959  52.86937297\n",
      "   2.05935941  55.01290469  10.60820611  -6.44997996 -36.33420098\n",
      "  51.95167819 -49.91285928 -18.70476219 -34.21295499 -36.46822046\n",
      " -13.11963934  53.47838905 -32.31538239 -36.50053509 -36.67095121\n",
      " -19.80160587   7.22492541  52.63595706  47.08473088  53.42402039\n",
      "  74.22836955 -20.95536345  -3.8677176   37.76446939  49.75794759\n",
      "  27.93508732 -27.77298948  44.61428042  58.27344341  85.47949636\n",
      " -31.49308627 -44.17179512  -1.45092164  25.31644376  71.52829265\n",
      " -12.13113445  35.29785593  88.35123252  42.85660001  27.8818189 ]\n",
      "[-20.293594237137746, 35.794773513835736, 2.701553082573314, -3.1563362477195827, 1.6369875274183856, -28.851697027707743, 25.336801064628236, 2.311734818194719, -9.09587377906757, -1.5773280544520754, 22.219172450458128, 13.519240907375515, -0.2816392073565923, -1.4425415056796551, -20.220824123709534, -29.128572363833502, 31.59871824018733, 25.529848503981196, 13.613482971083506, -6.629814557682497, -19.126883878524282, -38.559591434572994, -32.160152210254935, 34.861226332006794, 21.602074952403527, 11.335804881286128, 8.76767992067039, 36.85407091163016, -14.145974362282175, 25.179863036535306, -19.525081712626747, -40.71531249316277, -32.99390933085495, 30.941671993132257, 11.594096095891844, -16.63368921433131, 12.784947049004197, -11.884329940131437, -21.361099977921818, -37.963444986436656, 11.084265663622846, -45.50714404511408, -28.16931232500158, -36.784974996114414, -38.03790025598902, -25.066466299009253, 11.932438361593595, -35.73076799329445, -38.0558528296718, -38.15052845238498, -28.778669927615592, -13.763930327651236, 11.464420590967453, 8.380406046455356, 11.902233547951052, 23.46020530688296, -29.419646358423265, -19.92650977705103, 3.2024829943371933, 9.865526441143805, -2.25828482339605, -33.207216379035046, 7.007933567395944, 14.596357447665671, 29.7108313117732, -35.273936816141024, -42.317663952846004, -18.583845355367984, -3.713086801949146, 21.960162582580274, -24.51729691766485, 1.8321421839605359, 31.30624028704661, 6.031444452174786, -2.2878783907574984]\n"
     ]
    }
   ],
   "source": [
    "#First we import numpy, tensorflow and finally matplotlib to visualise our training's loss\n",
    "import numpy as np\n",
    "import tensorflow as tf\n",
    "import matplotlib.pyplot as plt\n",
    "\n",
    "#Let the data's inputs consist of random numbers between -50 and 101\n",
    "f_inputs = np.random.uniform(low=-50, high=101, size=(75,))\n",
    "c_outputs = []\n",
    "\n",
    "#We calculate the Fahrenheit equivalent for the expected output\n",
    "for i in f_inputs:\n",
    "  temp = (i - 32) * 5.0/9.0\n",
    "  c_outputs.append(temp)\n",
    "\n",
    "print(f_inputs)\n",
    "print(c_outputs)"
   ]
  },
  {
   "cell_type": "markdown",
   "metadata": {},
   "source": [
    "I am pretty happy with how those numbers look. For example, I get -4.52846963 (F) as -20.293594237137746 (C), which is correct."
   ]
  },
  {
   "cell_type": "code",
   "execution_count": 57,
   "metadata": {},
   "outputs": [
    {
     "name": "stdout",
     "output_type": "stream",
     "text": [
      "Finished training\n"
     ]
    }
   ],
   "source": [
    "#We convert our datasets now to np.arrays for optimum usage. They are much more memory efficient, they don't call other Python objects\n",
    "#The added bonus is that we get access to matrix and vector functions built-in\n",
    "f_inputs_np = np.array(f_inputs, dtype=float)\n",
    "c_outputs_np = np.array(c_outputs, dtype=float)\n",
    "\n",
    "#We're using a simple 1 layered Sequential model because we have a simple 1 input and 1 output dataset\n",
    "layer = tf.keras.layers.Dense(units=1, input_shape=[1])\n",
    "model = tf.keras.Sequential(layer)\n",
    "\n",
    "#The loss function is important as it will indicate how well our model above is performing. We want a low Mean Squared Error.\n",
    "#Adam is a way for the model to optimize itself during training where it looks to see how close its guess is to what is expected.\n",
    "model.compile(loss='mean_squared_error',\n",
    "              optimizer=tf.keras.optimizers.Adam(0.1))\n",
    "#Fit does the actual training and does it for the number of epochs (sounds epic, just means iterations)\n",
    "history = model.fit(f_inputs_np, c_outputs_np, epochs=500, verbose=False)\n",
    "print(\"Finished training\")"
   ]
  },
  {
   "cell_type": "code",
   "execution_count": 58,
   "metadata": {},
   "outputs": [
    {
     "data": {
      "text/plain": [
       "[<matplotlib.lines.Line2D at 0x236b8db8128>]"
      ]
     },
     "execution_count": 58,
     "metadata": {},
     "output_type": "execute_result"
    },
    {
     "data": {
      "image/png": "[encoded data removed]",
      "text/plain": [
       "<Figure size 432x288 with 1 Axes>"
      ]
     },
     "metadata": {
      "needs_background": "light"
     },
     "output_type": "display_data"
    }
   ],
   "source": [
    "#Let's have a look at how we did on our training\n",
    "plt.xlabel('Epoch')\n",
    "plt.ylabel(\"Loss\")\n",
    "plt.plot(history.history['loss'])"
   ]
  },
  {
   "cell_type": "markdown",
   "metadata": {},
   "source": [
    "Pretty good we're getting very close to 0 in our loss."
   ]
  },
  {
   "cell_type": "code",
   "execution_count": 60,
   "metadata": {},
   "outputs": [
    {
     "name": "stdout",
     "output_type": "stream",
     "text": [
      "[[-39.99996]]\n"
     ]
    }
   ],
   "source": [
    "#Let's do a prediction on our model. One of my favourites is -40 because it's the same in Celsius and Fahrenheit\n",
    "print(model.predict([-40.0]))"
   ]
  },
  {
   "cell_type": "code",
   "execution_count": 61,
   "metadata": {},
   "outputs": [
    {
     "name": "stdout",
     "output_type": "stream",
     "text": [
      "[[1.5258789e-05]]\n"
     ]
    }
   ],
   "source": [
    "#I had a look at 32 Fahrenheit because that is 0\n",
    "print(model.predict([32.0]))"
   ]
  },
  {
   "cell_type": "code",
   "execution_count": 62,
   "metadata": {},
   "outputs": [
    {
     "name": "stdout",
     "output_type": "stream",
     "text": [
      "[<tf.Variable 'dense_19/kernel:0' shape=(1, 1) dtype=float32, numpy=array([[0.5555552]], dtype=float32)>, <tf.Variable 'dense_19/bias:0' shape=(1,) dtype=float32, numpy=array([-17.777752], dtype=float32)>]\n"
     ]
    }
   ],
   "source": [
    "print(model.weights)"
   ]
  }
 ],
 "metadata": {
  "interpreter": {
   "hash": "4882edbe51bb6e239ade092361931914e31372b71a364adc3f294d6ba1d7a732"
  },
  "kernelspec": {
   "display_name": "Python 3.7.0 64-bit",
   "language": "python",
   "name": "python3"
  },
  "language_info": {
   "codemirror_mode": {
    "name": "ipython",
    "version": 3
   },
   "file_extension": ".py",
   "mimetype": "text/x-python",
   "name": "python",
   "nbconvert_exporter": "python",
   "pygments_lexer": "ipython3",
   "version": "3.7.0"
  },
  "orig_nbformat": 4
 },
 "nbformat": 4,
 "nbformat_minor": 2
}
