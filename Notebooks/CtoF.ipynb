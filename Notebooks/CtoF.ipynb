{
 "cells": [
  {
   "cell_type": "markdown",
   "metadata": {},
   "source": [
    "This Notebook will 'simply' learn to calculate a given number representing the degrees in Celcius to its Fahrenheit equivalent. "
   ]
  },
  {
   "cell_type": "code",
   "execution_count": 3,
   "metadata": {},
   "outputs": [
    {
     "name": "stdout",
     "output_type": "stream",
     "text": [
      "[ -5.9530066   -6.84767595  77.85575856 -31.61543946  29.00996718\n",
      "  23.88244805   3.05958715  49.87548145  -1.02463148 -16.04230098\n",
      "  72.64300039  28.97774844  66.4947559   73.44081643  37.21353736\n",
      "   2.70817318  37.51101448  69.28201426  66.64971516 -47.84510629\n",
      " -42.93452416 -36.24321919 -27.51012259  37.0473505  -36.55295227\n",
      "  37.9948972   76.8692719  -32.71356604  50.61297513 -20.06371798\n",
      "  10.98560753 -43.69471744  -4.12156542  10.46438823  58.0677792\n",
      "  80.62942314  40.06402912 -22.56298761  21.40085487  45.52771607\n",
      " -48.53062623  39.01611422 -26.53988748  52.9709079   72.45876904\n",
      "  89.26379942  34.24370935  48.56167725   0.99687349 -19.01813775]\n",
      "[21.284588116182917, 19.67418328832511, 172.14036541312691, -24.90779102897863, 84.21794092857074, 74.98840648890504, 37.507256876243375, 121.77586660224118, 30.15566332870449, 3.123858231648587, 162.75740070011176, 84.15994718469523, 151.6905606126985, 164.19346958222192, 98.98436723998026, 36.87471171595026, 99.51982607078561, 156.70762565927512, 151.9694872804816, -54.12119132278234, -45.282143489146705, -33.237794538356084, -17.518220661158274, 98.68523089825867, -33.79531409060722, 100.39081495388675, 170.3646894117815, -26.884418863641947, 123.10335522766934, -4.114692364923243, 51.774093546022115, -46.65049139850663, 24.581182241581566, 50.83589881872644, 136.52200255596765, 177.13296164572034, 104.1152524143833, -8.613377701819807, 70.52153875753405, 113.94988891891258, -55.35512721693476, 102.22900559391104, -15.771797461061361, 127.347634214167, 162.42578427970167, 192.67483895168652, 93.63867682734038, 119.41101905033827, 33.79437228753564, -2.2326479455450396]\n"
     ]
    }
   ],
   "source": [
    "#First we import numpy, tensorflow and finally matplotlib to visualise our training's loss\n",
    "import numpy as np\n",
    "import tensorflow as tf\n",
    "import matplotlib.pyplot as plt\n",
    "\n",
    "#Let the data's inputs consist of random numbers between -50 and 101\n",
    "c_inputs = np.random.uniform(low=-50, high=101, size=(50,))\n",
    "f_outputs = []\n",
    "\n",
    "#We calculate the Fahrenheit equivalent for the expected output\n",
    "for i in c_inputs:\n",
    "  temp = (i * 1.8) + 32\n",
    "  f_outputs.append(temp)\n",
    "\n",
    "print(c_inputs)\n",
    "print(f_outputs)"
   ]
  },
  {
   "cell_type": "markdown",
   "metadata": {},
   "source": [
    "I am pretty happy with how those numbers look. For example I get 51.96240032 (C) as 125.53232058104756 (F) which is correct."
   ]
  },
  {
   "cell_type": "code",
   "execution_count": 4,
   "metadata": {},
   "outputs": [
    {
     "name": "stdout",
     "output_type": "stream",
     "text": [
      "Finished training\n"
     ]
    }
   ],
   "source": [
    "#We convert our datasets now to np.arrays for optimum usage. They are much more memory efficient, they don't call other Python objects\n",
    "#The added bonus is that we get access to matrix and vector functions built-in\n",
    "c_inputs_np = np.array(c_inputs, dtype=float)\n",
    "f_outputs_np = np.array(f_outputs, dtype=float)\n",
    "\n",
    "#We're using a simple 1 layered Sequential model because we have a simple 1 input and 1 output dataset\n",
    "layer = tf.keras.layers.Dense(units=1, input_shape=[1])\n",
    "model = tf.keras.Sequential(layer)\n",
    "\n",
    "#The loss function is important as it will indicate how well our model above is performing. We want a low Mean Squared Error.\n",
    "#Adam is a way for the model to optimize itself during training where it looks to see how close its guess is to what is expected.\n",
    "model.compile(loss='mean_squared_error',\n",
    "              optimizer=tf.keras.optimizers.Adam(0.1))\n",
    "#Fit does the actual training and does it for the number of epochs (sounds epic, just means iterations)\n",
    "history = model.fit(c_inputs_np, f_outputs_np, epochs=500, verbose=False)\n",
    "print(\"Finished training\")"
   ]
  },
  {
   "cell_type": "code",
   "execution_count": 5,
   "metadata": {},
   "outputs": [
    {
     "data": {
      "text/plain": [
       "[<matplotlib.lines.Line2D at 0x1d7072d7e10>]"
      ]
     },
     "execution_count": 5,
     "metadata": {},
     "output_type": "execute_result"
    },
    {
     "data": {
      "image/png": "[encoded data removed]",
      "text/plain": [
       "<Figure size 432x288 with 1 Axes>"
      ]
     },
     "metadata": {
      "needs_background": "light"
     },
     "output_type": "display_data"
    }
   ],
   "source": [
    "#Let's have a look at how we did on our training\n",
    "plt.xlabel('Epoch')\n",
    "plt.ylabel(\"Loss\")\n",
    "plt.plot(history.history['loss'])"
   ]
  },
  {
   "cell_type": "markdown",
   "metadata": {},
   "source": [
    "Pretty good we're getting very close to 0 in our loss."
   ]
  },
  {
   "cell_type": "code",
   "execution_count": 6,
   "metadata": {},
   "outputs": [
    {
     "name": "stdout",
     "output_type": "stream",
     "text": [
      "[[-40.070496]]\n"
     ]
    }
   ],
   "source": [
    "#Let's do a prediction on our model. One of my favourites is -40 because it's the same in Celsius and Fahrenheit\n",
    "print(model.predict([-40.0]))"
   ]
  },
  {
   "cell_type": "markdown",
   "metadata": {},
   "source": [
    "I am very happy with that. "
   ]
  },
  {
   "cell_type": "code",
   "execution_count": 8,
   "metadata": {},
   "outputs": [
    {
     "name": "stdout",
     "output_type": "stream",
     "text": [
      "[<tf.Variable 'dense/kernel:0' shape=(1, 1) dtype=float32, numpy=array([[1.8005121]], dtype=float32)>, <tf.Variable 'dense/bias:0' shape=(1,) dtype=float32, numpy=array([31.94999], dtype=float32)>]\n"
     ]
    }
   ],
   "source": [
    "print(model.weights)"
   ]
  }
 ],
 "metadata": {
  "interpreter": {
   "hash": "4882edbe51bb6e239ade092361931914e31372b71a364adc3f294d6ba1d7a732"
  },
  "kernelspec": {
   "display_name": "Python 3.7.0 64-bit",
   "language": "python",
   "name": "python3"
  },
  "language_info": {
   "codemirror_mode": {
    "name": "ipython",
    "version": 3
   },
   "file_extension": ".py",
   "mimetype": "text/x-python",
   "name": "python",
   "nbconvert_exporter": "python",
   "pygments_lexer": "ipython3",
   "version": "3.7.0"
  },
  "orig_nbformat": 4
 },
 "nbformat": 4,
 "nbformat_minor": 2
}
