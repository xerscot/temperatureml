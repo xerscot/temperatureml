{
 "cells": [
  {
   "cell_type": "markdown",
   "metadata": {},
   "source": [
    "This Notebook will 'simply' learn to calculate a given number representing the degrees in Celcius to its Fahrenheit equivalent. "
   ]
  },
  {
   "cell_type": "code",
   "execution_count": 1,
   "metadata": {},
   "outputs": [
    {
     "name": "stdout",
     "output_type": "stream",
     "text": [
      "[-18.94040778 -29.83734459   3.91909541  91.81538899 -17.41009987\n",
      " -26.46462008  66.18968634  43.66552557  -1.36125666  25.45519766\n",
      " -34.47369722  51.09284912  77.75708905  81.01058652  88.60548855\n",
      "   8.62305235 -48.39285838   2.85228953   9.87247571 -10.98499687\n",
      "  74.77207918  10.80130997  94.71426123  47.94150806 -36.6592862\n",
      "  34.44658849 -14.95739094 -42.73187747  38.1828939  -19.61490039\n",
      " -45.4651477   80.81987354 -33.75473985 -10.26119141 -45.63617715\n",
      " -13.36921866  13.14583657 -28.82379939  57.06549879 -42.51317586\n",
      "  37.57925343   6.98093386   2.02159067 -13.75202152  76.31090032\n",
      "  39.31843418 -42.83298871  19.51297589  -0.15189152  97.29189224]\n",
      "[-2.0927340056299784, -21.70722026760182, 39.05437173122854, 197.26770018748084, 0.6618202407782512, -15.636316145612597, 151.14143542001563, 110.59794602381042, 29.549738018895088, 77.81935579486702, -30.05265498774841, 123.96712842234774, 171.9627602930452, 177.81905573672452, 191.48987939322302, 47.52149423580258, -55.107145088937784, 37.134121151427365, 49.770456269505694, 12.22700563921969, 166.58974252780942, 51.4423579436425, 202.48567022287705, 118.29471451257764, -33.986715156419166, 94.00385929041963, 5.076696302999412, -44.91737945023786, 100.72920902577647, -3.3068207069662137, -49.83726585186727, 177.47577238036365, -28.758531724324236, 13.529855467271464, -50.14511886681555, 7.935406405316396, 55.66250583466724, -19.882838899878486, 134.71789781686104, -44.52371654356841, 99.64265617572364, 44.56568094704113, 35.63886320166596, 7.246361264950291, 169.3596205794468, 102.7731815287992, -45.09937967287222, 67.12335659971876, 31.726595267669666, 207.12540603032804]\n"
     ]
    }
   ],
   "source": [
    "#First we import numpy, tensorflow and finally matplotlib to visualise our training's loss\n",
    "import numpy as np\n",
    "import tensorflow as tf\n",
    "import matplotlib.pyplot as plt\n",
    "\n",
    "#Let the data's inputs consist of random numbers between -50 and 101\n",
    "c_inputs = np.random.uniform(low=-50, high=101, size=(50,))\n",
    "f_outputs = []\n",
    "\n",
    "#We calculate the Fahrenheit equivalent for the expected output\n",
    "for i in c_inputs:\n",
    "  temp = (i * 1.8) + 32\n",
    "  f_outputs.append(temp)\n",
    "\n",
    "print(c_inputs)\n",
    "print(f_outputs)"
   ]
  },
  {
   "cell_type": "markdown",
   "metadata": {},
   "source": [
    "I am pretty happy with how those numbers look. For example I get 51.96240032 (C) as 125.53232058104756 (F) which is correct."
   ]
  },
  {
   "cell_type": "code",
   "execution_count": 2,
   "metadata": {},
   "outputs": [
    {
     "name": "stdout",
     "output_type": "stream",
     "text": [
      "Finished training\n"
     ]
    }
   ],
   "source": [
    "#We convert our datasets now to np.arrays for optimum usage. They are much more memory efficient, they don't call other Python objects\n",
    "#The added bonus is that we get access to matrix and vector functions built-in\n",
    "c_inputs_np = np.array(c_inputs, dtype=float)\n",
    "f_outputs_np = np.array(f_outputs, dtype=float)\n",
    "\n",
    "#We're using a simple 1 layered Sequential model because we have a simple 1 input and 1 output dataset\n",
    "layer = tf.keras.layers.Dense(units=1, input_shape=[1])\n",
    "model = tf.keras.Sequential(layer)\n",
    "\n",
    "#The loss function is important as it will indicate how well our model above is performing. We want a low Mean Squared Error.\n",
    "#Adam is a way for the model to optimize itself during training where it looks to see how close its guess is to what is expected.\n",
    "model.compile(loss='mean_squared_error',\n",
    "              optimizer=tf.keras.optimizers.Adam(0.1))\n",
    "#Fit does the actual training and does it for the number of epochs (sounds epic, just means iterations)\n",
    "history = model.fit(c_inputs_np, f_outputs_np, epochs=500, verbose=False)\n",
    "print(\"Finished training\")"
   ]
  },
  {
   "cell_type": "code",
   "execution_count": 3,
   "metadata": {},
   "outputs": [
    {
     "data": {
      "text/plain": [
       "[<matplotlib.lines.Line2D at 0x24951e369b0>]"
      ]
     },
     "execution_count": 3,
     "metadata": {},
     "output_type": "execute_result"
    },
    {
     "data": {
      "image/png": "[encoded data removed]",
      "text/plain": [
       "<Figure size 432x288 with 1 Axes>"
      ]
     },
     "metadata": {
      "needs_background": "light"
     },
     "output_type": "display_data"
    }
   ],
   "source": [
    "#Let's have a look at how we did on our training\n",
    "plt.xlabel('Epoch')\n",
    "plt.ylabel(\"Loss\")\n",
    "plt.plot(history.history['loss'])"
   ]
  },
  {
   "cell_type": "markdown",
   "metadata": {},
   "source": [
    "Pretty good we're getting very close to 0 in our loss."
   ]
  },
  {
   "cell_type": "code",
   "execution_count": 4,
   "metadata": {},
   "outputs": [
    {
     "name": "stdout",
     "output_type": "stream",
     "text": [
      "[[-40.088573]]\n"
     ]
    }
   ],
   "source": [
    "#Let's do a prediction on our model. One of my favourites is -40 because it's the same in Celsius and Fahrenheit\n",
    "print(model.predict([-40.0]))"
   ]
  },
  {
   "cell_type": "markdown",
   "metadata": {},
   "source": [
    "I am very happy with that. "
   ]
  },
  {
   "cell_type": "code",
   "execution_count": 5,
   "metadata": {},
   "outputs": [
    {
     "name": "stdout",
     "output_type": "stream",
     "text": [
      "[<tf.Variable 'dense/kernel:0' shape=(1, 1) dtype=float32, numpy=array([[1.8004622]], dtype=float32)>, <tf.Variable 'dense/bias:0' shape=(1,) dtype=float32, numpy=array([31.92992], dtype=float32)>]\n"
     ]
    }
   ],
   "source": [
    "print(model.weights)"
   ]
  },
  {
   "cell_type": "code",
   "execution_count": 6,
   "metadata": {},
   "outputs": [],
   "source": [
    "import tensorflowjs as tfjs\n",
    "\n",
    "tfjs.converters.save_keras_model(model, '../Models/CtoF')"
   ]
  }
 ],
 "metadata": {
  "interpreter": {
   "hash": "4882edbe51bb6e239ade092361931914e31372b71a364adc3f294d6ba1d7a732"
  },
  "kernelspec": {
   "display_name": "Python 3.7.0 64-bit",
   "language": "python",
   "name": "python3"
  },
  "language_info": {
   "codemirror_mode": {
    "name": "ipython",
    "version": 3
   },
   "file_extension": ".py",
   "mimetype": "text/x-python",
   "name": "python",
   "nbconvert_exporter": "python",
   "pygments_lexer": "ipython3",
   "version": "3.7.0"
  },
  "orig_nbformat": 4
 },
 "nbformat": 4,
 "nbformat_minor": 2
}
